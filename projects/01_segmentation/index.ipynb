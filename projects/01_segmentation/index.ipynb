{
  "cells": [
    {
      "cell_type": "raw",
      "metadata": {},
      "source": [
        "---\n",
        "title: \"Cluster Analysis for Segmentation\"\n",
        "author: \"Shraddhesh Bhalerao\"\n",
        "date: today\n",
        "---"
      ],
      "id": "1c8e94af"
    },
    {
      "cell_type": "markdown",
      "metadata": {},
      "source": [
        "# I'm a Section Heading\n",
        "\n",
        "## I'm a Subsection\n",
        "\n",
        "here are some words\n",
        "\n",
        "- one\n",
        "- two\n",
        "- three\n"
      ],
      "id": "9f3dfe64"
    },
    {
      "cell_type": "code",
      "metadata": {},
      "source": [
        "import pandas as pd\n",
        "\n",
        "print(2+2)"
      ],
      "id": "624bebb2",
      "execution_count": null,
      "outputs": []
    }
  ],
  "metadata": {
    "kernelspec": {
      "name": "python3",
      "language": "python",
      "display_name": "Python 3 (ipykernel)"
    }
  },
  "nbformat": 4,
  "nbformat_minor": 5
}