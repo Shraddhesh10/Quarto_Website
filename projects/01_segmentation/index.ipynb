{
  "cells": [
    {
      "cell_type": "raw",
      "id": "8580d681",
      "metadata": {},
      "source": [
        "---\n",
        "title: \"Customer Segmentation with PCA & KMeans\"\n",
        "format:\n",
        "  html:\n",
        "    toc: true\n",
        "execute:\n",
        "  echo: true  # or false, depending on what you want\n",
        "---\n"
      ]
    },
    {
      "cell_type": "markdown",
      "id": "b0ad64c9",
      "metadata": {},
      "source": [
        "## Project Overview\n",
        "\n",
        "Applied PCA and KMeans clustering techniques to segment customers, uncovering distinct buying patterns to support targeted marketing strategies.\n",
        "\n",
        "## My Contributions\n",
        "\n",
        "- Performed data cleaning and exploratory analysis.\n",
        "- Executed PCA for dimensionality reduction.\n",
        "- Built KMeans clustering models.\n",
        "- Visualized clustering outcomes and interpreted customer segments.\n",
        "\n",
        "## Technologies Used\n",
        "\n",
        "- Python (Pandas, NumPy, Scikit-learn, Matplotlib, Seaborn)\n",
        "- Jupyter Notebook\n",
        "\n",
        "## Code\n"
      ]
    },
    {
      "cell_type": "code",
      "execution_count": null,
      "id": "dae466a6",
      "metadata": {
        "vscode": {
          "languageId": "python"
        }
      },
      "outputs": [],
      "source": [
        "from sklearn.datasets import load_iris\n",
        "from sklearn.decomposition import PCA\n",
        "from sklearn.cluster import KMeans\n",
        "import matplotlib.pyplot as plt\n",
        "\n",
        "# Load data\n",
        "data = load_iris().data\n",
        "\n",
        "# Apply PCA\n",
        "pca = PCA(n_components=2)\n",
        "data_pca = pca.fit_transform(data)\n",
        "\n",
        "# Apply KMeans\n",
        "kmeans = KMeans(n_clusters=3, random_state=42)\n",
        "clusters = kmeans.fit_predict(data_pca)\n",
        "\n",
        "# Plot clusters\n",
        "plt.scatter(data_pca[:, 0], data_pca[:, 1], c=clusters)\n",
        "plt.title(\"PCA + KMeans Clustering\")\n",
        "plt.xlabel(\"PC1\")\n",
        "plt.ylabel(\"PC2\")\n",
        "plt.show()"
      ]
    }
  ],
  "metadata": {
    "kernelspec": {
      "display_name": "Python 3 (ipykernel)",
      "language": "python",
      "name": "python3"
    }
  },
  "nbformat": 4,
  "nbformat_minor": 5
}
